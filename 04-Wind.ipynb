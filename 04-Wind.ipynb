{
 "cells": [
  {
   "cell_type": "markdown",
   "id": "2bd47188-a7a1-418b-96af-b03e11c8f0f8",
   "metadata": {},
   "source": [
    "# Sonified & Interactive Wind Map"
   ]
  },
  {
   "cell_type": "code",
   "execution_count": null,
   "id": "26a68253-7091-4d4c-8147-0a4e3c967669",
   "metadata": {
    "tags": []
   },
   "outputs": [],
   "source": [
    "import ipytone\n",
    "import ipywidgets\n",
    "import numpy as np\n",
    "import matplotlib.pyplot as plt"
   ]
  },
  {
   "cell_type": "markdown",
   "id": "569abe05-ddb2-4e07-9f2a-292e8d982bd1",
   "metadata": {},
   "source": [
    "## Synthesizing the sound of wind\n",
    "\n",
    "1. Create a noise source + a few other audio processing nodes to simulate the sound of wind"
   ]
  },
  {
   "cell_type": "code",
   "execution_count": null,
   "id": "c9b2c712-f87e-4585-9cef-8ab388660eeb",
   "metadata": {
    "tags": []
   },
   "outputs": [],
   "source": [
    "noise = ipytone.Noise(volume=-5).start()\n",
    "gain = ipytone.Gain()\n",
    "env = ipytone.AmplitudeEnvelope(attack=1, release=2)\n",
    "lp_filter = ipytone.Filter(frequency=1000, type=\"lowpass\", rolloff=-24, q=4)\n",
    "eq = ipytone.EQ3()\n",
    "panner3d = ipytone.Panner3D()\n",
    "delay = ipytone.PingPongDelay(wet=0.2)\n",
    "dist = ipytone.Distortion(wet=0.01)\n",
    "reverb = ipytone.Reverb(wet=0.2)\n",
    "\n",
    "noise.chain(\n",
    "    env,\n",
    "    gain,\n",
    "    lp_filter,\n",
    "    eq,\n",
    "    panner3d,\n",
    "    delay,\n",
    "    dist,\n",
    "    reverb,\n",
    "    ipytone.get_destination(),\n",
    ");"
   ]
  },
  {
   "cell_type": "code",
   "execution_count": null,
   "id": "66377265-3faf-4902-ba4b-83513c9d12e6",
   "metadata": {
    "tags": []
   },
   "outputs": [],
   "source": [
    "env.trigger_attack_release(3)"
   ]
  },
  {
   "cell_type": "markdown",
   "id": "16586bf6-45da-4436-9a9a-8c739beb88a5",
   "metadata": {},
   "source": [
    "2. Add signal nodes to modulate the sound depending on wind speed"
   ]
  },
  {
   "cell_type": "code",
   "execution_count": null,
   "id": "4b58c07a-3856-4013-9b75-fe2e40f22676",
   "metadata": {
    "tags": []
   },
   "outputs": [],
   "source": [
    "wind_speed_sig = ipytone.Signal(value=0.2, min_value=0, max_value=1)\n",
    "\n",
    "gain_scaler = ipytone.WaveShaper(curve=[0, 0.4, 1])\n",
    "dist_scaler = ipytone.WaveShaper(curve=[0, 0.01, 0.1])\n",
    "frequency_scaler = ipytone.WaveShaper(curve=[0, 500, 1000])\n",
    "q_scaler = ipytone.WaveShaper(curve=[0, 2, 6])\n",
    "\n",
    "wind_speed_sig.chain(gain_scaler, gain.gain)\n",
    "wind_speed_sig.chain(dist_scaler, dist.wet)\n",
    "wind_speed_sig.chain(frequency_scaler, lp_filter.frequency)\n",
    "wind_speed_sig.chain(q_scaler, lp_filter.q)"
   ]
  },
  {
   "cell_type": "markdown",
   "id": "2366d4aa-6e8e-462a-8710-752b71010ac0",
   "metadata": {},
   "source": [
    "3. Control wind speed using a slider widget"
   ]
  },
  {
   "cell_type": "code",
   "execution_count": null,
   "id": "439e4e56-d64a-472c-ae1a-9f237a632b4c",
   "metadata": {
    "tags": []
   },
   "outputs": [],
   "source": [
    "wind_speed_slider = ipywidgets.FloatSlider(value=0.2, min=0, max=1, step=0.005)\n",
    "\n",
    "l = ipywidgets.jslink((wind_speed_slider, \"value\"), (wind_speed_sig, \"value\"))\n",
    "\n",
    "wind_speed_slider"
   ]
  },
  {
   "cell_type": "code",
   "execution_count": null,
   "id": "440c025e-235c-4d0f-bcc2-65041af2004d",
   "metadata": {
    "tags": []
   },
   "outputs": [],
   "source": [
    "env.trigger_attack()"
   ]
  },
  {
   "cell_type": "code",
   "execution_count": null,
   "id": "3fec64d8-8872-4557-b673-76bbb0333d7f",
   "metadata": {
    "tags": []
   },
   "outputs": [],
   "source": [
    "env.trigger_release()"
   ]
  },
  {
   "cell_type": "markdown",
   "id": "a66cf79f-1694-4589-8469-5e3a2c8a0aa2",
   "metadata": {},
   "source": [
    "4. Tweak some parameter values to tune the wind sound"
   ]
  },
  {
   "cell_type": "code",
   "execution_count": null,
   "id": "2527ac80-a2ac-44eb-8651-6d6ceb6a2d45",
   "metadata": {
    "tags": []
   },
   "outputs": [],
   "source": [
    "delay.delay_time.value = 2.0\n",
    "delay.feedback.value = 0.1\n",
    "\n",
    "# more rumbling\n",
    "eq.low_frequency.value = 200\n",
    "eq.low.value = 7\n",
    "eq.mid.value = -2.5\n",
    "eq.high.value = 3\n",
    "\n",
    "dist.distortion = 0.4\n",
    "\n",
    "gain_scaler.curve = [0, 0.2, 2]\n",
    "frequency_scaler.curve = [0, 100, 2000]\n",
    "q_scaler.curve = [1, 4]\n",
    "\n",
    "# move wind (noise) source above listener head\n",
    "# (10m wind, and also for smoother x/z transitions)\n",
    "panner3d.position_y.value = 3\n",
    "\n",
    "noise.volume.value = 3"
   ]
  },
  {
   "cell_type": "markdown",
   "id": "f3a95ea3-3713-4f32-a676-85eecef4e754",
   "metadata": {},
   "source": [
    "## Modulate the sound of wind with actual data\n",
    "\n",
    "Using ERA5 monthly averaged northward and eastward components of wind at a height of 10m on a low resolution global grid (dataset downloaded from https://cluster.klima.uni-bremen.de/~fmaussion/teaching/climate/ERA5_LowRes_MonthlyAvg_uvslp.nc)."
   ]
  },
  {
   "cell_type": "code",
   "execution_count": null,
   "id": "4344bb59-1fe0-4ae5-b669-5f87fb8e5077",
   "metadata": {
    "tags": []
   },
   "outputs": [],
   "source": [
    "import xarray as xr\n",
    "\n",
    "ds = xr.open_dataset(\"assets/ERA5_LowRes_Monthly_uvslp.nc\")\n",
    "\n",
    "ds"
   ]
  },
  {
   "cell_type": "code",
   "execution_count": null,
   "id": "25048665-91b9-4f44-81de-e095d2e785af",
   "metadata": {
    "tags": []
   },
   "outputs": [],
   "source": [
    "# wind components u, v -> wind speed and direction\n",
    "\n",
    "ds[\"wind_speed\"] = np.sqrt(ds.u10**2 + ds.v10**2)\n",
    "ds[\"wind_speed_norm\"] = ds.wind_speed / ds.wind_speed.max()\n",
    "\n",
    "wind_angle = 1 * np.pi / 2 - np.arctan2(-ds.u10, -ds.v10)\n",
    "ds[\"wind_pos_x\"] = np.cos(wind_angle)\n",
    "ds[\"wind_pos_z\"] = np.sin(wind_angle)"
   ]
  },
  {
   "cell_type": "code",
   "execution_count": null,
   "id": "e7b72bec-08ea-4b0c-8b6c-f94e6ac5f6d0",
   "metadata": {
    "tags": []
   },
   "outputs": [],
   "source": [
    "def make_wind(lat, lon, duration=50, speed_avg=5, speed_scale=2, pos_scale=2):\n",
    "    \"\"\"Generate wind sound from data at a given location.\"\"\"\n",
    "\n",
    "    ds_point = ds.sel(longitude=lon, latitude=lat, method=\"nearest\")\n",
    "    da_speed_avg = (\n",
    "        ds_point.wind_speed_norm\n",
    "        .rolling(time=speed_avg).mean()\n",
    "        .dropna(\"time\")\n",
    "    )\n",
    "\n",
    "    wind_speed_sig.cancel_scheduled_values(None)\n",
    "    wind_speed_sig.set_value_curve_at_time(\n",
    "        da_speed_avg.values * speed_scale,\n",
    "        None,\n",
    "        duration\n",
    "    )\n",
    "\n",
    "    panner3d.position_x.cancel_scheduled_values(None)\n",
    "    panner3d.position_x.set_value_curve_at_time(\n",
    "        ds_point.wind_pos_x.values * pos_scale,\n",
    "        None,\n",
    "        duration\n",
    "    )\n",
    "\n",
    "    panner3d.position_z.cancel_scheduled_values(None)\n",
    "    panner3d.position_z.set_value_curve_at_time(\n",
    "        ds_point.wind_pos_z.values * pos_scale,\n",
    "        None,\n",
    "        duration\n",
    "    )"
   ]
  },
  {
   "cell_type": "code",
   "execution_count": null,
   "id": "2a18e4a0-83cd-42cc-819d-ed6991fd9bb3",
   "metadata": {
    "tags": []
   },
   "outputs": [],
   "source": [
    "env.trigger_attack()"
   ]
  },
  {
   "cell_type": "code",
   "execution_count": null,
   "id": "a50c954b-15b1-4d04-9709-8d5d7fe2253c",
   "metadata": {
    "tags": []
   },
   "outputs": [],
   "source": [
    "make_wind(44, 5)"
   ]
  },
  {
   "cell_type": "code",
   "execution_count": null,
   "id": "a6c1b035-ed1c-412f-8d80-65079c251628",
   "metadata": {
    "tags": []
   },
   "outputs": [],
   "source": [
    "env.trigger_release()"
   ]
  },
  {
   "cell_type": "markdown",
   "id": "87e21480-08fc-450c-86fd-94b97a473295",
   "metadata": {},
   "source": [
    "## Interactive map\n",
    "\n",
    "The time averaged (full time period) wind is shown as a global and iteractive velocity map, while the actual wind speed and direction is audio-generated at a given location (draggable marker) on the map."
   ]
  },
  {
   "cell_type": "code",
   "execution_count": null,
   "id": "c7c3d733-0cb6-48b8-a6ad-0a5743e36b4d",
   "metadata": {
    "tags": []
   },
   "outputs": [],
   "source": [
    "import ipyleaflet\n",
    "from ipyleaflet.velocity import Velocity"
   ]
  },
  {
   "cell_type": "code",
   "execution_count": null,
   "id": "ae3bd614-b0ca-4b2b-8cd3-3470bd637bba",
   "metadata": {
    "tags": []
   },
   "outputs": [],
   "source": [
    "speed_widget = ipywidgets.FloatSlider(\n",
    "    value=0, min=0, max=1.2, description=\"Speed\", disabled=True, readout=False\n",
    ")\n",
    "speed_widget.style.handle_color = \"blue\"\n",
    "pos_x_widget = ipywidgets.FloatSlider(\n",
    "    value=0, min=-2.2, max=2.2, description=\"W / E\", disabled=True, readout=False\n",
    ")\n",
    "pos_x_widget.style.handle_color = \"blue\"\n",
    "pos_z_widget = ipywidgets.FloatSlider(\n",
    "    value=0, min=-2.2, max=2.2, description=\"S / N\", disabled=True, readout=False\n",
    ")\n",
    "pos_z_widget.style.handle_color = \"blue\"\n",
    "\n",
    "ls = wind_speed_sig.schedule_jsdlink((speed_widget, \"value\"))\n",
    "lx = panner3d.position_x.schedule_jsdlink((pos_x_widget, \"value\"))\n",
    "lz = panner3d.position_z.schedule_jsdlink((pos_z_widget, \"value\"))"
   ]
  },
  {
   "cell_type": "code",
   "execution_count": null,
   "id": "c799bd70-6f5a-4e93-bba4-6ce509d6a28e",
   "metadata": {
    "tags": []
   },
   "outputs": [],
   "source": [
    "paris_latlon = (48.85, 2.35)\n",
    "\n",
    "m = ipyleaflet.Map(\n",
    "    zoom=2,\n",
    "    center=paris_latlon,\n",
    "    basemap=ipyleaflet.basemaps.Esri.WorldImagery,\n",
    "    layout=ipywidgets.Layout(height=\"600px\")\n",
    ")\n",
    "\n",
    "wind = Velocity(\n",
    "    data=ds.mean(\"time\"),\n",
    "    zonal_speed=\"u10\",\n",
    "    meridional_speed=\"v10\",\n",
    "    latitude_dimension=\"latitude\",\n",
    "    longitude_dimension=\"longitude\",\n",
    "    velocity_scale=0.05,\n",
    "    max_velocity=20\n",
    ")\n",
    "m.add_layer(wind)\n",
    "\n",
    "wind_control = ipyleaflet.WidgetControl(\n",
    "    widget=ipywidgets.VBox([speed_widget, pos_x_widget, pos_z_widget]),\n",
    "    position=\"topright\"\n",
    ")\n",
    "m.add_control(wind_control)\n",
    "\n",
    "icon = ipyleaflet.AwesomeIcon(\n",
    "    name=\"headphones\",\n",
    "    marker_color='red',\n",
    "    icon_color='white',\n",
    ")\n",
    "\n",
    "marker = ipyleaflet.Marker(location=paris_latlon, icon=icon)\n",
    "m.add_layer(marker)\n",
    "\n",
    "def on_location_changed(event):\n",
    "    make_wind(*event[\"new\"])\n",
    "\n",
    "marker.observe(on_location_changed, \"location\")"
   ]
  },
  {
   "cell_type": "code",
   "execution_count": null,
   "id": "24c61ff8-1bd1-40c9-94b4-5bf709ad2471",
   "metadata": {
    "tags": []
   },
   "outputs": [],
   "source": [
    "env.trigger_attack()\n",
    "make_wind(*paris_latlon)\n",
    "m"
   ]
  },
  {
   "cell_type": "markdown",
   "id": "a839be68-957b-48a7-90fa-8bc3174a6706",
   "metadata": {},
   "source": [
    "## Dispose and close (audio) widgets"
   ]
  },
  {
   "cell_type": "code",
   "execution_count": null,
   "id": "ce673b6a-0cb0-431c-bf6b-666aacdb0ee8",
   "metadata": {
    "tags": []
   },
   "outputs": [],
   "source": [
    "wind_speed_sig.cancel_scheduled_values(None)\n",
    "panner3d.position_x.cancel_scheduled_values(None)\n",
    "panner3d.position_z.cancel_scheduled_values(None)\n",
    "\n",
    "env.trigger_release()"
   ]
  },
  {
   "cell_type": "code",
   "execution_count": null,
   "id": "03e39421-2eae-4bc8-8be1-dbe145d323c3",
   "metadata": {
    "tags": []
   },
   "outputs": [],
   "source": [
    "m.close()"
   ]
  },
  {
   "cell_type": "code",
   "execution_count": null,
   "id": "9b34a2c5-ea15-4001-8506-5a7e24473c89",
   "metadata": {
    "tags": []
   },
   "outputs": [],
   "source": [
    "l.unlink()\n",
    "ls.unlink()\n",
    "lx.unlink()\n",
    "lz.unlink()"
   ]
  },
  {
   "cell_type": "code",
   "execution_count": null,
   "id": "7e8e2fb4-afe5-4841-8b5e-a0df0b5c7b22",
   "metadata": {
    "tags": []
   },
   "outputs": [],
   "source": [
    "noise.dispose()\n",
    "env.dispose()\n",
    "gain.dispose()\n",
    "lp_filter.dispose()\n",
    "eq.dispose()\n",
    "panner3d.dispose()\n",
    "delay.dispose()\n",
    "dist.dispose()\n",
    "reverb.dispose()\n",
    "\n",
    "wind_speed_sig.dispose()\n",
    "frequency_scaler.dispose()\n",
    "q_scaler.dispose();"
   ]
  },
  {
   "cell_type": "code",
   "execution_count": null,
   "id": "33d48757-c4a4-4624-b373-64aa55c9e2bf",
   "metadata": {},
   "outputs": [],
   "source": []
  }
 ],
 "metadata": {
  "kernelspec": {
   "display_name": "Python 3 (ipykernel)",
   "language": "python",
   "name": "python3"
  },
  "language_info": {
   "codemirror_mode": {
    "name": "ipython",
    "version": 3
   },
   "file_extension": ".py",
   "mimetype": "text/x-python",
   "name": "python",
   "nbconvert_exporter": "python",
   "pygments_lexer": "ipython3",
   "version": "3.11.3"
  }
 },
 "nbformat": 4,
 "nbformat_minor": 5
}

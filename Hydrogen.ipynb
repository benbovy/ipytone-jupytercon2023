{
 "cells": [
  {
   "cell_type": "code",
   "execution_count": null,
   "id": "cbf82b8a-5e05-4cde-b1c9-2e72f5f24274",
   "metadata": {
    "tags": []
   },
   "outputs": [],
   "source": [
    "import numpy as np\n",
    "import matplotlib.pyplot as plt\n",
    "import ipytone"
   ]
  },
  {
   "cell_type": "code",
   "execution_count": null,
   "id": "cb541dae-18ab-4681-be5c-a8d1d5d15891",
   "metadata": {},
   "outputs": [],
   "source": [
    "sr = 44100     # audio sample rate (Hertz)\n",
    "duration = 4   # audio sample duration (seconds)\n",
    "\n",
    "time = np.linspace(0, duration, sr * duration)"
   ]
  },
  {
   "cell_type": "markdown",
   "id": "25c7c1e9-c2da-4e0d-982a-bd87efa1fb72",
   "metadata": {},
   "source": [
    "Compute the wavelengths of the hydrogen atom spectral series using the [Rydberg formula](https://en.wikipedia.org/wiki/Rydberg_formula).\n",
    "\n",
    "$$ {1 \\over \\lambda} = R_H \\left({1\\over n_1}-{1\\over n_2}\\right) $$\n",
    "\n",
    "where $ n_2 > n_1 $ and where $ n_1 \\in [1, 2, 3...]$ ($n_1 = 1$: Lyman series, $n_1 = 2$: Balmer series)"
   ]
  },
  {
   "cell_type": "code",
   "execution_count": null,
   "id": "9c90668d-7a35-4995-b2af-164a08fbfce9",
   "metadata": {
    "tags": []
   },
   "outputs": [],
   "source": [
    "def rydberg(time, r_h, n1=1, nseries=8):\n",
    "    n2 = np.arange(n1 + 1, n1 + 1 + nseries)[:, None]\n",
    "    series = np.sin((1 / n1**2 - 1 / n2**2) * 2 * np.pi * time * r_h)\n",
    "    data = np.sum(series, axis=0)\n",
    "    \n",
    "    return 0.8 * (data - data.min()) / (data.max() - data.min()) - 0.4\n",
    "    \n",
    "    "
   ]
  },
  {
   "cell_type": "code",
   "execution_count": null,
   "id": "cfc4fa89-2830-4b1d-81c9-6597474cc5dd",
   "metadata": {
    "tags": []
   },
   "outputs": [],
   "source": [
    "plt.plot(rydberg(time, 440));"
   ]
  },
  {
   "cell_type": "code",
   "execution_count": null,
   "id": "e103fc8b-2c4e-4b41-a72e-57d33bfb900b",
   "metadata": {
    "tags": []
   },
   "outputs": [],
   "source": [
    "def lyman_balmer(time, r_h):\n",
    "    return rydberg(time, r_h, n1=1) + rydberg(time, r_h, n1=2)\n",
    "\n",
    "buf = ipytone.AudioBuffer(lyman_balmer(time, 440))"
   ]
  },
  {
   "cell_type": "code",
   "execution_count": null,
   "id": "ce850b32-c931-4c37-8323-15c68a80fe61",
   "metadata": {
    "tags": []
   },
   "outputs": [],
   "source": [
    "hydrogen_player = ipytone.Player(buf, volume=-5).to_destination()"
   ]
  },
  {
   "cell_type": "code",
   "execution_count": null,
   "id": "ed5658c1-9035-4d18-b999-fcf4dd173a0a",
   "metadata": {
    "tags": []
   },
   "outputs": [],
   "source": [
    "hydrogen_player.start()"
   ]
  },
  {
   "cell_type": "code",
   "execution_count": null,
   "id": "b8bde72c-1c5d-4017-bc2b-5b8be93260df",
   "metadata": {
    "tags": []
   },
   "outputs": [],
   "source": [
    "bufs = {\n",
    "    \"C4\": ipytone.AudioBuffer(lyman_balmer(time, 261.6)),\n",
    "    \"A4\": ipytone.AudioBuffer(lyman_balmer(time, 440)),\n",
    "    \"C5\": ipytone.AudioBuffer(lyman_balmer(time, 523.25)),\n",
    "    \"A5\": ipytone.AudioBuffer(lyman_balmer(time, 880)),\n",
    "}"
   ]
  },
  {
   "cell_type": "code",
   "execution_count": null,
   "id": "4c1ec2d5-6d5f-481e-9e31-f52787f4197c",
   "metadata": {
    "tags": []
   },
   "outputs": [],
   "source": [
    "hydrogen_sampler = ipytone.Sampler(bufs, attack=0.2, release=1.5, volume=-10)\n",
    "hydrogen_delay = ipytone.PingPongDelay(wet=0)\n",
    "hydrogen_sampler.chain(hydrogen_delay, ipytone.get_destination())"
   ]
  },
  {
   "cell_type": "code",
   "execution_count": null,
   "id": "c6814009-9a28-4d8c-9f14-31c693971218",
   "metadata": {
    "tags": []
   },
   "outputs": [],
   "source": [
    "hydrogen_sampler.trigger_attack_release([\"C4\"], 1.0)"
   ]
  },
  {
   "cell_type": "code",
   "execution_count": null,
   "id": "60ab0d02-416d-4dbc-b0df-e394e8d4e056",
   "metadata": {
    "tags": []
   },
   "outputs": [],
   "source": [
    "def hydrogen_callback(time, value):\n",
    "    hydrogen_sampler.trigger_attack_release(value, \"2n\", time=time)\n",
    "\n",
    "hydrogen_seq = ipytone.Sequence(\n",
    "    callback=hydrogen_callback,\n",
    "    events=[[\"A3\", \"A3\"], [\"A4\", None], [\"C4\", \"C4\"], [\"D4\", \"F4\"]],\n",
    "    subdivision=\"1m\",\n",
    ")\n"
   ]
  },
  {
   "cell_type": "code",
   "execution_count": null,
   "id": "b0edc519-5621-42cb-9ad4-ea532b6081aa",
   "metadata": {
    "tags": []
   },
   "outputs": [],
   "source": [
    "hydrogen_seq.start()"
   ]
  },
  {
   "cell_type": "code",
   "execution_count": null,
   "id": "e4929a0f-d2d9-4743-963f-110174d607d3",
   "metadata": {
    "tags": []
   },
   "outputs": [],
   "source": [
    "hydrogen_delay.wet.value = 0.5"
   ]
  },
  {
   "cell_type": "code",
   "execution_count": null,
   "id": "1f8fa064-92bc-45a5-8eac-4b5919cd8649",
   "metadata": {
    "tags": []
   },
   "outputs": [],
   "source": [
    "earthquake = np.load(\"assets/ev0_6.a01.gse2.npy\")"
   ]
  },
  {
   "cell_type": "code",
   "execution_count": null,
   "id": "2de593c6-ff63-4275-bf66-0d078e5ba387",
   "metadata": {
    "tags": []
   },
   "outputs": [],
   "source": [
    "plt.plot(earthquake);"
   ]
  },
  {
   "cell_type": "code",
   "execution_count": null,
   "id": "d0f5a585-7bb0-42e3-ae8a-d70962094b46",
   "metadata": {
    "tags": []
   },
   "outputs": [],
   "source": [
    "earthquake_buf = ipytone.AudioBuffer(earthquake)"
   ]
  },
  {
   "cell_type": "code",
   "execution_count": null,
   "id": "b97199dd-30f3-40c6-82a6-bd1fb1a4542f",
   "metadata": {
    "tags": []
   },
   "outputs": [],
   "source": [
    "earthquake_player = ipytone.Player(earthquake_buf).to_destination()"
   ]
  },
  {
   "cell_type": "code",
   "execution_count": null,
   "id": "106c6c67-6041-4459-99ca-ed41b262b147",
   "metadata": {
    "tags": []
   },
   "outputs": [],
   "source": [
    "earthquake_player.playback_rate = 1.5\n",
    "earthquake_player.start()"
   ]
  },
  {
   "cell_type": "code",
   "execution_count": null,
   "id": "6d196eb1-ce58-405e-bc9d-6b05d222c720",
   "metadata": {
    "tags": []
   },
   "outputs": [],
   "source": [
    "earthquake_drums = ipytone.Sampler(\n",
    "    {\"A5\": earthquake_buf},\n",
    "    attack=0.02,\n",
    "    release=0.8,\n",
    "    volume=-3,\n",
    ")\n",
    "\n",
    "earthquake_eq = ipytone.EQ3(low=5, mid=-4, high=4, low_frequency=150)\n",
    "earthquake_comp = ipytone.Compressor(attack=0.3, ratio=5)\n",
    "earthquake_dist = ipytone.Distortion(wet=0.05, oversample=\"none\")\n",
    "earthquake_delay = ipytone.PingPongDelay(wet=0.1)\n",
    "earthquake_reverb = ipytone.Reverb(wet=0.2, decay=8, pre_delay=0.5)\n",
    "\n",
    "earthquake_drums.chain(\n",
    "    earthquake_eq,\n",
    "    earthquake_comp,\n",
    "    earthquake_dist,\n",
    "    earthquake_delay,\n",
    "    earthquake_reverb,\n",
    "    ipytone.destination\n",
    ")"
   ]
  },
  {
   "cell_type": "code",
   "execution_count": null,
   "id": "facb1d1a-fb39-449f-b710-24685ef2197c",
   "metadata": {
    "tags": []
   },
   "outputs": [],
   "source": [
    "earthquake_drums.trigger_attack_release(\"E3\", \"8n\")"
   ]
  },
  {
   "cell_type": "code",
   "execution_count": null,
   "id": "0275a9ac-915e-4d01-8c89-f61ebb5bdbe0",
   "metadata": {
    "tags": []
   },
   "outputs": [],
   "source": [
    "earthquake_drums.trigger_attack_release(\"G5\", \"8n\")"
   ]
  },
  {
   "cell_type": "code",
   "execution_count": null,
   "id": "ef136fb7-ee01-4cb3-90c0-62dd02404fec",
   "metadata": {
    "tags": []
   },
   "outputs": [],
   "source": [
    "earthquake_dist.wet.value = 0.05\n",
    "earthquake_dist.oversample = \"none\"\n",
    "\n",
    "earthquake_eq.low_frequency.value = 150\n",
    "\n",
    "earthquake_eq.mid.value = -4\n",
    "\n",
    "earthquake_reverb.wet.value = 0.1\n",
    "earthquake_reverb.decay = 8\n",
    "earthquake_reverb.pre_delay = 0.5"
   ]
  },
  {
   "cell_type": "code",
   "execution_count": null,
   "id": "018b4a0d-5610-48e5-80d0-f3cf2e804b35",
   "metadata": {
    "tags": []
   },
   "outputs": [],
   "source": [
    "import ipycanvas\n",
    "\n",
    "height = 300\n",
    "\n",
    "canvas = ipycanvas.MultiCanvas(n_canvases=3, width=600, height=height)\n",
    "\n",
    "canvas[0].fill_style = \"blue\"\n",
    "canvas[0].fill_rect(0, 0, 200, height=height)\n",
    "canvas[0].fill_style = \"red\"\n",
    "canvas[0].fill_rect(400, 0, 200, height=height)\n",
    "\n",
    "canvas[1].global_alpha = 0.7\n",
    "canvas[1].fill_style = \"white\"\n",
    "canvas[2].fill_style = \"black\"\n",
    "\n",
    "canvas"
   ]
  },
  {
   "cell_type": "code",
   "execution_count": null,
   "id": "428b39b8-c319-4201-abdb-7122343bc656",
   "metadata": {
    "tags": []
   },
   "outputs": [],
   "source": [
    "import random\n",
    "\n",
    "last_played = \"\"\n",
    "\n",
    "def play_earthquake(x, y):\n",
    "    global last_played, height\n",
    "\n",
    "    canvas[1].clear()\n",
    "    canvas[2].clear()\n",
    "    \n",
    "    velocity = (height - y) / height\n",
    "    canvas[2].stroke_circle(\n",
    "        600 // 2,\n",
    "        height // 2,\n",
    "        max(1, velocity * 100)\n",
    "    )\n",
    "\n",
    "    # kick\n",
    "    if x < 200:\n",
    "        canvas[1].fill_rect(0, 0, 200, height=height)\n",
    "        if last_played != \"kick\":\n",
    "            last_played = \"kick\"\n",
    "            earthquake_drums.trigger_attack_release(\n",
    "                \"E3\", \"16n\", time=\"@16n\"\n",
    "            )\n",
    "    \n",
    "    # snare\n",
    "    elif x > 400:\n",
    "        canvas[1].fill_rect(400, 0, 200, height=height)\n",
    "        if last_played != \"snare\":\n",
    "            last_played = \"snare\"\n",
    "            earthquake_drums.trigger_attack_release(\n",
    "                \"B5\", \"16n\", time=\"@16n\"\n",
    "            )\n",
    "    \n",
    "    # hi-hats\n",
    "    elif x > 200 and x <= 400:\n",
    "        last_played = \"hh\"\n",
    "        earthquake_drums.trigger_attack_release(\n",
    "            1e4 + random.random() * 1e3,\n",
    "            0.1,\n",
    "            time=\"@16n\",\n",
    "            velocity=velocity,\n",
    "        )\n"
   ]
  },
  {
   "cell_type": "code",
   "execution_count": null,
   "id": "50fdbb67-3c7c-4af0-9b04-767cf83742c5",
   "metadata": {
    "tags": []
   },
   "outputs": [],
   "source": [
    "canvas[2].on_mouse_move(play_earthquake)"
   ]
  },
  {
   "cell_type": "code",
   "execution_count": null,
   "id": "b367d3a9-17ab-424f-a21e-7d06cf255bb0",
   "metadata": {
    "tags": []
   },
   "outputs": [],
   "source": [
    "hydrogen_sampler2 = ipytone.Sampler(bufs, attack=0.003, release=0.2, volume=0)\n",
    "hydrogen_dist2 = ipytone.Distortion(wet=0.2, distortion=0.1)\n",
    "hydrogen_sampler2.chain(hydrogen_dist2, ipytone.get_destination())"
   ]
  },
  {
   "cell_type": "code",
   "execution_count": null,
   "id": "d8619d44-011a-48e2-91bb-91a89efcf0d9",
   "metadata": {
    "tags": []
   },
   "outputs": [],
   "source": [
    "hydrogen_sampler2.trigger_attack_release(\"A2\", 0.1)"
   ]
  },
  {
   "cell_type": "code",
   "execution_count": null,
   "id": "39ef79e4-0a1e-47a6-9e4f-9fc84c7cc860",
   "metadata": {
    "tags": []
   },
   "outputs": [],
   "source": [
    "def hydrogen_callback2(time, value):\n",
    "    hydrogen_sampler2.trigger_attack_release(value, 0.15, time=time)\n",
    "\n",
    "hydrogen_seq2 = ipytone.Sequence(\n",
    "    callback=hydrogen_callback2,\n",
    "    events=[\n",
    "        [\"A2\", \"A2\", \"A2\", \"A2\"],\n",
    "        [\"A2\", \"C3\", \"A2\", \"A2\"],\n",
    "        [\"A3\", \"A2\", \"A2\", \"A2\"],\n",
    "        [\"A2\", \"C3\", \"A2\", \"A2\"],\n",
    "        [\"C2\", \"C2\", \"C2\", \"C2\"],\n",
    "        [\"C2\", \"C2\", \"C2\", \"C2\"],\n",
    "        [\"D2\", \"D2\", \"D2\", \"D2\"],\n",
    "        [\"F2\", \"F2\", \"F2\", \"F2\"],\n",
    "    ],\n",
    "    subdivision=\"2n\",\n",
    ")"
   ]
  },
  {
   "cell_type": "code",
   "execution_count": null,
   "id": "7e5167fc-8b8a-4516-8d22-7ecf03c9a89b",
   "metadata": {
    "tags": []
   },
   "outputs": [],
   "source": [
    "hydrogen_seq2.start()"
   ]
  },
  {
   "cell_type": "code",
   "execution_count": null,
   "id": "9ef30352-52a9-4fd8-8d27-6dcb60f5e307",
   "metadata": {
    "tags": []
   },
   "outputs": [],
   "source": [
    "hydrogen_seq2.dispose()"
   ]
  },
  {
   "cell_type": "code",
   "execution_count": null,
   "id": "a2fc13df-55f2-4d9d-8ee1-5f02f0abfca3",
   "metadata": {
    "tags": []
   },
   "outputs": [],
   "source": [
    "hydrogen_dist2.wet.value = 0.2\n",
    "hydrogen_dist2.distortion = 0.1\n",
    "hydrogen_dist2.oversample = \"none\""
   ]
  },
  {
   "cell_type": "code",
   "execution_count": null,
   "id": "c87c1664-bedd-4c7d-a70a-ed28e50a0cfc",
   "metadata": {
    "tags": []
   },
   "outputs": [],
   "source": [
    "hydrogen_sampler2.volume.value = 2"
   ]
  },
  {
   "cell_type": "code",
   "execution_count": null,
   "id": "1129fa88-adcb-4bd5-ac5c-63e1ae8d924d",
   "metadata": {
    "tags": []
   },
   "outputs": [],
   "source": [
    "bufs2 = {\n",
    "    \"A4\": ipytone.AudioBuffer(rydberg(time, 440, n1=1, nseries=4)),\n",
    "}"
   ]
  },
  {
   "cell_type": "code",
   "execution_count": null,
   "id": "ed59b11c-7647-40db-810f-e29668d271bd",
   "metadata": {
    "tags": []
   },
   "outputs": [],
   "source": [
    "hydrogen_sampler3 = ipytone.Sampler(\n",
    "    urls={\"A4\": ipytone.AudioBuffer(rydberg(time, 440, n1=1, nseries=4))},\n",
    "    attack=0.1,\n",
    "    release=0.05,\n",
    "    volume=-5,\n",
    ")\n",
    "hydrogen_tremolo3 = ipytone.Tremolo()\n",
    "hydrogen_sampler3.chain(hydrogen_tremolo3, ipytone.get_destination())"
   ]
  },
  {
   "cell_type": "code",
   "execution_count": null,
   "id": "93b06330-d32c-46e0-b65d-25d46139adec",
   "metadata": {
    "tags": []
   },
   "outputs": [],
   "source": [
    "def hydrogen_callback3(time, value):\n",
    "    hydrogen_sampler3.trigger_attack_release(value, 0.03, time=time)\n",
    "\n",
    "hydrogen_seq3 = ipytone.Sequence(\n",
    "    callback=hydrogen_callback3,\n",
    "    events=[\n",
    "        [None, None, None, \"A5\"],\n",
    "        [None, \"A6\", \"A5\", None],\n",
    "        [None, None, \"A7\", None],\n",
    "        [None, \"A6\", \"A5\", None],\n",
    "    ],\n",
    "    subdivision=\"4n\",\n",
    ")"
   ]
  },
  {
   "cell_type": "code",
   "execution_count": null,
   "id": "136c2020-ab9f-4499-8dd6-f8b25dadb52b",
   "metadata": {
    "tags": []
   },
   "outputs": [],
   "source": [
    "hydrogen_seq3.start()"
   ]
  },
  {
   "cell_type": "code",
   "execution_count": null,
   "id": "7ed7be71-b53c-4c75-86e3-fa49f0e0ab76",
   "metadata": {
    "tags": []
   },
   "outputs": [],
   "source": [
    "hydrogen_sampler3.trigger_attack_release(\"A7\", 0.03)"
   ]
  },
  {
   "cell_type": "code",
   "execution_count": null,
   "id": "1732d82f-381e-42f3-8377-01b641f54e6c",
   "metadata": {},
   "outputs": [],
   "source": []
  }
 ],
 "metadata": {
  "kernelspec": {
   "display_name": "Python 3 (ipykernel)",
   "language": "python",
   "name": "python3"
  },
  "language_info": {
   "codemirror_mode": {
    "name": "ipython",
    "version": 3
   },
   "file_extension": ".py",
   "mimetype": "text/x-python",
   "name": "python",
   "nbconvert_exporter": "python",
   "pygments_lexer": "ipython3",
   "version": "3.11.3"
  }
 },
 "nbformat": 4,
 "nbformat_minor": 5
}

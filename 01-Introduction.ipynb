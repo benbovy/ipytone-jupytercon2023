{
 "cells": [
  {
   "cell_type": "markdown",
   "id": "f562c0a4-142e-4b12-a788-b3b838b0892b",
   "metadata": {},
   "source": [
    "# Introduction to ipytone"
   ]
  },
  {
   "cell_type": "code",
   "execution_count": null,
   "id": "6cb8d7ad-1cd1-43d2-a3c7-50f546f036a0",
   "metadata": {
    "tags": []
   },
   "outputs": [],
   "source": [
    "import numpy as np\n",
    "import matplotlib.pyplot as plt\n",
    "import ipytone\n",
    "import ipywidgets"
   ]
  },
  {
   "cell_type": "markdown",
   "id": "283e3303-270c-45a3-9abd-1ab9d6827b07",
   "metadata": {},
   "source": [
    "## Sound Synthesis (from scratch)\n",
    "\n",
    "### Simple oscillator"
   ]
  },
  {
   "cell_type": "code",
   "execution_count": null,
   "id": "76be0853-d040-4393-aedc-eeef2458d7cf",
   "metadata": {
    "tags": []
   },
   "outputs": [],
   "source": [
    "osc = ipytone.Oscillator()\n",
    "\n",
    "osc"
   ]
  },
  {
   "cell_type": "code",
   "execution_count": null,
   "id": "39411d2b-cfa5-4273-a1c1-d0d01f04cd46",
   "metadata": {
    "tags": []
   },
   "outputs": [],
   "source": [
    "osc.start()"
   ]
  },
  {
   "cell_type": "markdown",
   "id": "c2188bc6-3932-429d-8acf-de651e5e05a8",
   "metadata": {},
   "source": [
    "### Audio node connection"
   ]
  },
  {
   "cell_type": "code",
   "execution_count": null,
   "id": "6fac816d-eb4f-4c4a-80de-bd2e54a0b611",
   "metadata": {
    "tags": []
   },
   "outputs": [],
   "source": [
    "osc.connect(ipytone.get_destination())"
   ]
  },
  {
   "cell_type": "code",
   "execution_count": null,
   "id": "38a76a3e-1951-452d-89c0-2cd69398376c",
   "metadata": {
    "tags": []
   },
   "outputs": [],
   "source": [
    "osc.stop()"
   ]
  },
  {
   "cell_type": "markdown",
   "id": "ebc0ea20-76ba-48b1-8f4a-6d6bff4d8b06",
   "metadata": {},
   "source": [
    "### Method chaining"
   ]
  },
  {
   "cell_type": "code",
   "execution_count": null,
   "id": "b4966332-c5db-4da0-bcb6-9d23dd7f8f51",
   "metadata": {
    "tags": []
   },
   "outputs": [],
   "source": [
    "osc.start().stop(\"+1\")"
   ]
  },
  {
   "cell_type": "markdown",
   "id": "b3915b91-0cae-4933-8af1-76026b070086",
   "metadata": {
    "tags": []
   },
   "source": [
    "### Parameters and signals"
   ]
  },
  {
   "cell_type": "code",
   "execution_count": null,
   "id": "5b3168d0-9e08-4d3a-b230-0c39704898a8",
   "metadata": {
    "tags": []
   },
   "outputs": [],
   "source": [
    "osc.frequency"
   ]
  },
  {
   "cell_type": "code",
   "execution_count": null,
   "id": "99780013-83dd-4ce5-a0d7-9fc4fe779464",
   "metadata": {
    "tags": []
   },
   "outputs": [],
   "source": [
    "osc.frequency.value = 880.0"
   ]
  },
  {
   "cell_type": "code",
   "execution_count": null,
   "id": "fddbfd44-fef9-471f-a01b-62ea850775f1",
   "metadata": {
    "tags": []
   },
   "outputs": [],
   "source": [
    "osc.frequency.value = \"C4\""
   ]
  },
  {
   "cell_type": "markdown",
   "id": "10c5be92-8774-4aed-9fec-5eaa07b1ba57",
   "metadata": {
    "tags": []
   },
   "source": [
    "Signal modulation"
   ]
  },
  {
   "cell_type": "code",
   "execution_count": null,
   "id": "7441b818-4c54-45d8-b582-943fb70bcc47",
   "metadata": {
    "tags": []
   },
   "outputs": [],
   "source": [
    "osc.detune"
   ]
  },
  {
   "cell_type": "code",
   "execution_count": null,
   "id": "e7adc369-4bdb-47eb-ae6d-b9b1e58c9506",
   "metadata": {
    "tags": []
   },
   "outputs": [],
   "source": [
    "lfo = ipytone.LFO(min=-100, max=100).connect(osc.detune).start()"
   ]
  },
  {
   "cell_type": "code",
   "execution_count": null,
   "id": "126edf77-1567-45fb-a9f5-493cbb860d0d",
   "metadata": {
    "tags": []
   },
   "outputs": [],
   "source": [
    "osc.start().stop(\"+3\")"
   ]
  },
  {
   "cell_type": "markdown",
   "id": "44259ac7-1224-4a37-a3cc-3d9107430977",
   "metadata": {},
   "source": [
    "### Envelopes"
   ]
  },
  {
   "cell_type": "code",
   "execution_count": null,
   "id": "495632a9-5567-422d-b499-b982f063ede8",
   "metadata": {
    "tags": []
   },
   "outputs": [],
   "source": [
    "env = ipytone.AmplitudeEnvelope(sync_array=True)\n",
    "\n",
    "env"
   ]
  },
  {
   "cell_type": "code",
   "execution_count": null,
   "id": "05c06323-3d34-4548-9a83-f3403c1284bc",
   "metadata": {
    "tags": []
   },
   "outputs": [],
   "source": [
    "plt.plot(env.array);"
   ]
  },
  {
   "cell_type": "code",
   "execution_count": null,
   "id": "b023dc7c-e2fe-4665-98a8-f62eb5d480af",
   "metadata": {
    "tags": []
   },
   "outputs": [],
   "source": [
    "osc.disconnect(ipytone.get_destination())\n",
    "\n",
    "osc.chain(env, ipytone.get_destination()).start()"
   ]
  },
  {
   "cell_type": "code",
   "execution_count": null,
   "id": "ed3a4bd1-2c95-4e8a-a0d2-32b0a4766358",
   "metadata": {
    "tags": []
   },
   "outputs": [],
   "source": [
    "env.trigger_attack()"
   ]
  },
  {
   "cell_type": "code",
   "execution_count": null,
   "id": "4ae95b2d-1c9d-4e95-81df-6e6156656231",
   "metadata": {
    "tags": []
   },
   "outputs": [],
   "source": [
    "env.trigger_release()"
   ]
  },
  {
   "cell_type": "code",
   "execution_count": null,
   "id": "ce2bcd44-f92d-428a-ab0e-45c21cf2bd86",
   "metadata": {
    "tags": []
   },
   "outputs": [],
   "source": [
    "env.attack = 0.5\n",
    "env.sustain = 0.6\n",
    "env.release = 2.0"
   ]
  },
  {
   "cell_type": "markdown",
   "id": "c9332ed2-1415-42b5-b2dd-e6d4411cbbf0",
   "metadata": {},
   "source": [
    "## Everything is a Widget"
   ]
  },
  {
   "cell_type": "code",
   "execution_count": null,
   "id": "73dbe2a2-98b5-4364-95b6-2e3df7a8d626",
   "metadata": {
    "tags": []
   },
   "outputs": [],
   "source": [
    "button = ipywidgets.Button(description=\"click me\")\n",
    "slider = ipywidgets.FloatSlider(value=440, min=200, max=1000)\n",
    "\n",
    "ipywidgets.HBox([button, slider])"
   ]
  },
  {
   "cell_type": "code",
   "execution_count": null,
   "id": "254d6a10-9ffc-47c5-8a8d-505f742d7072",
   "metadata": {
    "tags": []
   },
   "outputs": [],
   "source": [
    "ipywidgets.jslink((slider, \"value\"), (osc.frequency, \"value\"))\n",
    "\n",
    "button.on_click(lambda _: env.trigger_attack_release(1))"
   ]
  },
  {
   "cell_type": "code",
   "execution_count": null,
   "id": "ed53a111-99ed-4594-9dd7-405a08687259",
   "metadata": {
    "tags": []
   },
   "outputs": [],
   "source": [
    "osc.frequency.value = 440"
   ]
  },
  {
   "cell_type": "markdown",
   "id": "d275ab12-6fd6-4b11-bfe1-b1e427670d38",
   "metadata": {},
   "source": [
    "## Audio Widget Synchronization"
   ]
  },
  {
   "cell_type": "code",
   "execution_count": null,
   "id": "222b834a-a804-4ff4-ae3f-1d4547a19d8b",
   "metadata": {
    "tags": []
   },
   "outputs": [],
   "source": [
    "progress = ipywidgets.FloatProgress(min=0, max=1, value=0)\n",
    "\n",
    "env.schedule_jsdlink((progress, \"value\"))\n",
    "\n",
    "progress"
   ]
  },
  {
   "cell_type": "code",
   "execution_count": null,
   "id": "948d26d9-64ff-4843-a666-429dd4702e37",
   "metadata": {
    "tags": []
   },
   "outputs": [],
   "source": [
    "env.attack = 0.01\n",
    "env.release = 0.1"
   ]
  },
  {
   "cell_type": "markdown",
   "id": "06ac7723-c233-4305-8faa-97a3f2c131f9",
   "metadata": {},
   "source": [
    "## Scheduling events (notes) and automation"
   ]
  },
  {
   "cell_type": "code",
   "execution_count": null,
   "id": "795aa089-154d-44c7-a275-566cd18aa300",
   "metadata": {
    "tags": []
   },
   "outputs": [],
   "source": [
    "t = ipytone.get_transport()"
   ]
  },
  {
   "cell_type": "code",
   "execution_count": null,
   "id": "b6bde6ad-5816-4278-9fd5-392cddd37392",
   "metadata": {
    "tags": []
   },
   "outputs": [],
   "source": [
    "t.start().stop(\"+2m\")"
   ]
  },
  {
   "cell_type": "code",
   "execution_count": null,
   "id": "868b25c6-6156-4d7b-b401-9489e4ab2571",
   "metadata": {
    "tags": []
   },
   "outputs": [],
   "source": [
    "eid = t.schedule_repeat(\n",
    "    lambda time: env.trigger_attack_release(0.05, time=time),\n",
    "    \"4n\",\n",
    ")"
   ]
  },
  {
   "cell_type": "code",
   "execution_count": null,
   "id": "12c042d1-74b2-436c-bfba-ae3d7f2604cd",
   "metadata": {
    "tags": []
   },
   "outputs": [],
   "source": [
    "t.start().stop(\"+4m\")"
   ]
  },
  {
   "cell_type": "code",
   "execution_count": null,
   "id": "fbe9cf91-03e4-49bc-8e6d-3ab88dc25c34",
   "metadata": {
    "tags": []
   },
   "outputs": [],
   "source": [
    "def automate_freq(time):\n",
    "    osc.frequency.set_value_at_time(440, time)\n",
    "    osc.frequency.ramp_to(880, 3, start_time=time)\n",
    "\n",
    "\n",
    "eid2 = t.schedule(automate_freq, 0)"
   ]
  },
  {
   "cell_type": "code",
   "execution_count": null,
   "id": "4e3b3e11-3ff4-4c6f-961b-bf514ed36232",
   "metadata": {
    "tags": []
   },
   "outputs": [],
   "source": [
    "t.clear(eid)\n",
    "t.clear(eid2)"
   ]
  },
  {
   "cell_type": "markdown",
   "id": "9fc533f6-1978-4321-91b0-0c4fdc99b2eb",
   "metadata": {},
   "source": [
    "## Dispose audio nodes"
   ]
  },
  {
   "cell_type": "code",
   "execution_count": null,
   "id": "6fd05686-f53b-479a-9f2a-c835834046b1",
   "metadata": {
    "tags": []
   },
   "outputs": [],
   "source": [
    "osc.dispose()\n",
    "env.dispose()\n",
    "lfo.dispose()"
   ]
  },
  {
   "cell_type": "markdown",
   "id": "1c4ec3bd-fc79-4367-910d-514d03e9fecc",
   "metadata": {},
   "source": [
    "## And Much More...\n",
    "\n",
    "Dozens of audio components (widgets)!\n",
    "\n",
    "https://ipytone.readthedocs.io/en/latest/api.html\n",
    "\n",
    "- Instruments\n",
    "- Effects\n",
    "- Analysis\n",
    "- Signal algebra\n",
    "- ..."
   ]
  },
  {
   "cell_type": "code",
   "execution_count": null,
   "id": "21499dcb-eb30-4e04-89b5-d118055f91f6",
   "metadata": {},
   "outputs": [],
   "source": []
  }
 ],
 "metadata": {
  "kernelspec": {
   "display_name": "Python 3 (ipykernel)",
   "language": "python",
   "name": "python3"
  },
  "language_info": {
   "codemirror_mode": {
    "name": "ipython",
    "version": 3
   },
   "file_extension": ".py",
   "mimetype": "text/x-python",
   "name": "python",
   "nbconvert_exporter": "python",
   "pygments_lexer": "ipython3",
   "version": "3.11.3"
  }
 },
 "nbformat": 4,
 "nbformat_minor": 5
}

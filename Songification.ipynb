{
 "cells": [
  {
   "cell_type": "markdown",
   "id": "b2f243bb-b86d-44e7-ad5a-070d2ead5aa2",
   "metadata": {
    "tags": []
   },
   "source": [
    "# Song-ification!"
   ]
  },
  {
   "cell_type": "code",
   "execution_count": null,
   "id": "cbf82b8a-5e05-4cde-b1c9-2e72f5f24274",
   "metadata": {
    "tags": []
   },
   "outputs": [],
   "source": [
    "import numpy as np\n",
    "import matplotlib.pyplot as plt\n",
    "import ipytone"
   ]
  },
  {
   "cell_type": "markdown",
   "id": "d4631faf-2de9-4e49-b173-be54d81583a9",
   "metadata": {},
   "source": [
    "## Create sound samples from scratch\n",
    "\n",
    "Example with a basic sine wave."
   ]
  },
  {
   "cell_type": "code",
   "execution_count": null,
   "id": "cb541dae-18ab-4681-be5c-a8d1d5d15891",
   "metadata": {},
   "outputs": [],
   "source": [
    "sr = 44100     # audio sample rate (Hertz)\n",
    "duration = 4   # audio sample duration (seconds)\n",
    "\n",
    "time = np.linspace(0, duration, sr * duration)"
   ]
  },
  {
   "cell_type": "code",
   "execution_count": null,
   "id": "63d7677f-84fa-4eac-b35a-9ce8ac7653a1",
   "metadata": {
    "tags": []
   },
   "outputs": [],
   "source": [
    "sine = np.sin(440 * 2 * np.pi * time)"
   ]
  },
  {
   "cell_type": "code",
   "execution_count": null,
   "id": "f372e485-9233-425a-8c49-c41be32fdaf5",
   "metadata": {
    "tags": []
   },
   "outputs": [],
   "source": [
    "plt.plot(sine[0:1000]);"
   ]
  },
  {
   "cell_type": "code",
   "execution_count": null,
   "id": "eb880ae1-81a4-43bd-b948-c089e6d87364",
   "metadata": {
    "tags": []
   },
   "outputs": [],
   "source": [
    "sine_buffer = ipytone.AudioBuffer(sine)"
   ]
  },
  {
   "cell_type": "code",
   "execution_count": null,
   "id": "2b19f93f-7b43-49cc-84ed-569271de45e2",
   "metadata": {
    "tags": []
   },
   "outputs": [],
   "source": [
    "sine_player = ipytone.Player(sine_buffer, volume=-5)\n",
    "sine_player.to_destination()"
   ]
  },
  {
   "cell_type": "code",
   "execution_count": null,
   "id": "36a2113c-0d9c-4767-be80-9acb30ab67ee",
   "metadata": {
    "tags": []
   },
   "outputs": [],
   "source": [
    "sine_player.start()"
   ]
  },
  {
   "cell_type": "markdown",
   "id": "25c7c1e9-c2da-4e0d-982a-bd87efa1fb72",
   "metadata": {},
   "source": [
    "## The Sound of Hydrogen\n",
    "\n",
    "Adapted from a (old) blog post by Matthias Bussonnier: https://carreau.github.io/posts/07-the-sound-of-hydrogen/\n",
    "\n",
    "Computing the wavelengths of the hydrogen atom spectral series using the [Rydberg formula](https://en.wikipedia.org/wiki/Rydberg_formula).\n",
    "\n",
    "$$ {1 \\over \\lambda} = R_H \\left({1\\over n_1}-{1\\over n_2}\\right) $$\n",
    "\n",
    "where $ n_2 > n_1 $ and where $ n_1 \\in [1, 2, 3...]$ ($n_1 = 1$: Lyman series, $n_1 = 2$: Balmer series)"
   ]
  },
  {
   "cell_type": "code",
   "execution_count": null,
   "id": "9c90668d-7a35-4995-b2af-164a08fbfce9",
   "metadata": {
    "tags": []
   },
   "outputs": [],
   "source": [
    "def rydberg(time, r_h, n1=1, nseries=8):\n",
    "    n2 = np.arange(n1 + 1, n1 + 1 + nseries)[:, None]\n",
    "    series = np.sin((1 / n1**2 - 1 / n2**2) * 2 * np.pi * time * r_h)\n",
    "    data = np.sum(series, axis=0)\n",
    "    \n",
    "    return 0.8 * (data - data.min()) / (data.max() - data.min()) - 0.4\n",
    "\n",
    "\n",
    "def lyman_balmer(time, r_h):\n",
    "    return rydberg(time, r_h, n1=1) + rydberg(time, r_h, n1=2)\n"
   ]
  },
  {
   "cell_type": "code",
   "execution_count": null,
   "id": "cfc4fa89-2830-4b1d-81c9-6597474cc5dd",
   "metadata": {
    "tags": []
   },
   "outputs": [],
   "source": [
    "plt.plot(lyman_balmer(time, 440)[0:20000]);"
   ]
  },
  {
   "cell_type": "code",
   "execution_count": null,
   "id": "e103fc8b-2c4e-4b41-a72e-57d33bfb900b",
   "metadata": {
    "tags": []
   },
   "outputs": [],
   "source": [
    "hydrogen_buffer = ipytone.AudioBuffer(lyman_balmer(time, 440))"
   ]
  },
  {
   "cell_type": "code",
   "execution_count": null,
   "id": "ce850b32-c931-4c37-8323-15c68a80fe61",
   "metadata": {
    "tags": []
   },
   "outputs": [],
   "source": [
    "hydrogen_player = ipytone.Player(hydrogen_buffer, volume=-5).to_destination()"
   ]
  },
  {
   "cell_type": "code",
   "execution_count": null,
   "id": "ed5658c1-9035-4d18-b999-fcf4dd173a0a",
   "metadata": {
    "tags": []
   },
   "outputs": [],
   "source": [
    "hydrogen_player.start()"
   ]
  },
  {
   "cell_type": "markdown",
   "id": "08328fca-3a53-498f-af84-75f9abfa3e3a",
   "metadata": {},
   "source": [
    "## The Hydrogen \"Pad\"\n",
    "\n",
    "Let's turn it into an instrument, i.e., a sampler that maps notes or frequencies to one or more (re-pitched) samples."
   ]
  },
  {
   "cell_type": "code",
   "execution_count": null,
   "id": "b8bde72c-1c5d-4017-bc2b-5b8be93260df",
   "metadata": {
    "tags": []
   },
   "outputs": [],
   "source": [
    "bufs = {\n",
    "    \"C4\": ipytone.AudioBuffer(lyman_balmer(time, 261.6)),\n",
    "    \"A4\": ipytone.AudioBuffer(lyman_balmer(time, 440)),\n",
    "    \"C5\": ipytone.AudioBuffer(lyman_balmer(time, 523.25)),\n",
    "    \"A5\": ipytone.AudioBuffer(lyman_balmer(time, 880)),\n",
    "}"
   ]
  },
  {
   "cell_type": "code",
   "execution_count": null,
   "id": "4c1ec2d5-6d5f-481e-9e31-f52787f4197c",
   "metadata": {
    "tags": []
   },
   "outputs": [],
   "source": [
    "hydrogen_sampler = ipytone.Sampler(bufs, attack=0.2, release=1.5, volume=-10)\n",
    "hydrogen_eq = ipytone.EQ3(low=-5, mid=-5)\n",
    "hydrogen_delay = ipytone.PingPongDelay(wet=0)\n",
    "hydrogen_sampler.chain(hydrogen_eq, hydrogen_delay, ipytone.get_destination())"
   ]
  },
  {
   "cell_type": "code",
   "execution_count": null,
   "id": "c6814009-9a28-4d8c-9f14-31c693971218",
   "metadata": {
    "tags": []
   },
   "outputs": [],
   "source": [
    "hydrogen_sampler.trigger_attack_release(\"A4\", 1.0)"
   ]
  },
  {
   "cell_type": "code",
   "execution_count": null,
   "id": "60ab0d02-416d-4dbc-b0df-e394e8d4e056",
   "metadata": {
    "tags": []
   },
   "outputs": [],
   "source": [
    "def hydrogen_callback(time, value):\n",
    "    hydrogen_sampler.trigger_attack_release(value, \"2n\", time=time)\n",
    "\n",
    "hydrogen_seq = ipytone.Sequence(\n",
    "    callback=hydrogen_callback,\n",
    "    events=[[\"A3\", \"A3\"], [\"A4\", None], [\"C4\", \"C4\"], [\"D4\", \"F4\"]],\n",
    "    subdivision=\"1m\",\n",
    ")"
   ]
  },
  {
   "cell_type": "code",
   "execution_count": null,
   "id": "b0edc519-5621-42cb-9ad4-ea532b6081aa",
   "metadata": {
    "tags": []
   },
   "outputs": [],
   "source": [
    "hydrogen_seq.start()"
   ]
  },
  {
   "cell_type": "code",
   "execution_count": null,
   "id": "e4929a0f-d2d9-4743-963f-110174d607d3",
   "metadata": {
    "tags": []
   },
   "outputs": [],
   "source": [
    "hydrogen_delay.wet.value = 0.5"
   ]
  },
  {
   "cell_type": "markdown",
   "id": "c6aabb7d-456d-435c-b5b4-3df271ad7225",
   "metadata": {},
   "source": [
    "## The Hydrogen Bass"
   ]
  },
  {
   "cell_type": "code",
   "execution_count": null,
   "id": "b367d3a9-17ab-424f-a21e-7d06cf255bb0",
   "metadata": {
    "tags": []
   },
   "outputs": [],
   "source": [
    "hydrogen_sampler2 = ipytone.Sampler(bufs, attack=0.003, release=0.2)\n",
    "hydrogen_dist2 = ipytone.Distortion(wet=0.2, distortion=0.1)\n",
    "hydrogen_sampler2.chain(hydrogen_dist2, ipytone.get_destination())"
   ]
  },
  {
   "cell_type": "code",
   "execution_count": null,
   "id": "d8619d44-011a-48e2-91bb-91a89efcf0d9",
   "metadata": {
    "tags": []
   },
   "outputs": [],
   "source": [
    "hydrogen_sampler2.trigger_attack_release(\"A2\", 0.1)"
   ]
  },
  {
   "cell_type": "code",
   "execution_count": null,
   "id": "39ef79e4-0a1e-47a6-9e4f-9fc84c7cc860",
   "metadata": {
    "tags": []
   },
   "outputs": [],
   "source": [
    "def hydrogen_callback2(time, value):\n",
    "    hydrogen_sampler2.trigger_attack_release(value, 0.15, time=time)\n",
    "\n",
    "hydrogen_seq2 = ipytone.Sequence(\n",
    "    callback=hydrogen_callback2,\n",
    "    events=[\n",
    "        [\"A2\", \"A2\", \"A2\", \"A2\"],\n",
    "        [\"A2\", \"C3\", \"A2\", \"A2\"],\n",
    "        [\"A3\", \"A2\", \"A2\", \"A2\"],\n",
    "        [\"A2\", \"C3\", \"A2\", \"A2\"],\n",
    "        [\"C2\", \"C2\", \"C2\", \"C2\"],\n",
    "        [\"C2\", \"C2\", \"C2\", \"C2\"],\n",
    "        [\"D2\", \"D2\", \"D2\", \"D2\"],\n",
    "        [\"F2\", \"F2\", \"F2\", \"F2\"],\n",
    "    ],\n",
    "    subdivision=\"2n\",\n",
    ")"
   ]
  },
  {
   "cell_type": "code",
   "execution_count": null,
   "id": "7e5167fc-8b8a-4516-8d22-7ecf03c9a89b",
   "metadata": {
    "tags": []
   },
   "outputs": [],
   "source": [
    "hydrogen_seq2.start()"
   ]
  },
  {
   "cell_type": "markdown",
   "id": "7d3a8f1c-ccef-47df-8f59-4525ba8e3b77",
   "metadata": {
    "tags": []
   },
   "source": [
    "## The Earthquake Drum machine\n",
    "\n",
    "Data has been loaded and processed using `Obspy` (see https://github.com/benbovy/ipytone-examples/blob/main/seismic_data.ipynb for the full example)."
   ]
  },
  {
   "cell_type": "code",
   "execution_count": null,
   "id": "1f8fa064-92bc-45a5-8eac-4b5919cd8649",
   "metadata": {
    "tags": []
   },
   "outputs": [],
   "source": [
    "earthquake = np.load(\"assets/ev0_6.a01.gse2.npy\")"
   ]
  },
  {
   "cell_type": "code",
   "execution_count": null,
   "id": "2de593c6-ff63-4275-bf66-0d078e5ba387",
   "metadata": {
    "tags": []
   },
   "outputs": [],
   "source": [
    "plt.plot(earthquake);"
   ]
  },
  {
   "cell_type": "code",
   "execution_count": null,
   "id": "d0f5a585-7bb0-42e3-ae8a-d70962094b46",
   "metadata": {
    "tags": []
   },
   "outputs": [],
   "source": [
    "earthquake_buffer = ipytone.AudioBuffer(earthquake)"
   ]
  },
  {
   "cell_type": "code",
   "execution_count": null,
   "id": "b97199dd-30f3-40c6-82a6-bd1fb1a4542f",
   "metadata": {
    "tags": []
   },
   "outputs": [],
   "source": [
    "earthquake_player = ipytone.Player(earthquake_buffer).to_destination()"
   ]
  },
  {
   "cell_type": "code",
   "execution_count": null,
   "id": "106c6c67-6041-4459-99ca-ed41b262b147",
   "metadata": {
    "tags": []
   },
   "outputs": [],
   "source": [
    "earthquake_player.playback_rate = 1.0\n",
    "earthquake_player.start()"
   ]
  },
  {
   "cell_type": "code",
   "execution_count": null,
   "id": "6d196eb1-ce58-405e-bc9d-6b05d222c720",
   "metadata": {
    "tags": []
   },
   "outputs": [],
   "source": [
    "earthquake_drums = ipytone.Sampler(\n",
    "    {\"A5\": earthquake_buffer},\n",
    "    attack=0.02,\n",
    "    release=0.8,\n",
    "    volume=-3,\n",
    ")\n",
    "\n",
    "earthquake_eq = ipytone.EQ3(low=5, mid=-4, high=4, low_frequency=150)\n",
    "earthquake_comp = ipytone.Compressor(attack=0.3, ratio=5)\n",
    "earthquake_dist = ipytone.Distortion(wet=0.05, oversample=\"none\")\n",
    "earthquake_delay = ipytone.PingPongDelay(wet=0.1)\n",
    "earthquake_reverb = ipytone.Reverb(wet=0.2, decay=8, pre_delay=0.5)\n",
    "\n",
    "earthquake_drums.chain(\n",
    "    earthquake_eq,\n",
    "    earthquake_comp,\n",
    "    earthquake_dist,\n",
    "    earthquake_delay,\n",
    "    earthquake_reverb,\n",
    "    ipytone.destination\n",
    ")"
   ]
  },
  {
   "cell_type": "code",
   "execution_count": null,
   "id": "facb1d1a-fb39-449f-b710-24685ef2197c",
   "metadata": {
    "tags": []
   },
   "outputs": [],
   "source": [
    "earthquake_drums.trigger_attack_release(\"E3\", \"8n\")"
   ]
  },
  {
   "cell_type": "code",
   "execution_count": null,
   "id": "0275a9ac-915e-4d01-8c89-f61ebb5bdbe0",
   "metadata": {
    "tags": []
   },
   "outputs": [],
   "source": [
    "earthquake_drums.trigger_attack_release(\"G5\", \"8n\")"
   ]
  },
  {
   "cell_type": "markdown",
   "id": "dbb29a4d-5699-4382-9b2c-a2426665ccda",
   "metadata": {},
   "source": [
    "## The French Grooving Canvas\n",
    "\n",
    "Manual execution of notebook cells is not very groovy. We can do better, like the example below inspired by Beatsurfing (https://www.youtube.com/watch?v=AZ6FqtjSRYA)."
   ]
  },
  {
   "cell_type": "code",
   "execution_count": null,
   "id": "018b4a0d-5610-48e5-80d0-f3cf2e804b35",
   "metadata": {
    "tags": []
   },
   "outputs": [],
   "source": [
    "import ipycanvas\n",
    "\n",
    "height = 300\n",
    "\n",
    "canvas = ipycanvas.MultiCanvas(n_canvases=3, width=600, height=height)\n",
    "\n",
    "canvas[0].fill_style = \"blue\"\n",
    "canvas[0].fill_rect(0, 0, 200, height=height)\n",
    "canvas[0].fill_style = \"red\"\n",
    "canvas[0].fill_rect(400, 0, 200, height=height)\n",
    "\n",
    "canvas[1].global_alpha = 0.7\n",
    "canvas[1].fill_style = \"white\"\n",
    "canvas[2].fill_style = \"black\"\n",
    "\n",
    "canvas"
   ]
  },
  {
   "cell_type": "code",
   "execution_count": null,
   "id": "428b39b8-c319-4201-abdb-7122343bc656",
   "metadata": {
    "tags": []
   },
   "outputs": [],
   "source": [
    "import random\n",
    "\n",
    "last_played = \"\"\n",
    "\n",
    "def play_earthquake(x, y):\n",
    "    global last_played, height\n",
    "\n",
    "    canvas[1].clear()\n",
    "    canvas[2].clear()\n",
    "    \n",
    "    velocity = (height - y) / height\n",
    "    canvas[2].stroke_circle(\n",
    "        600 // 2,\n",
    "        height,\n",
    "        max(1, velocity * 100)\n",
    "    )\n",
    "\n",
    "    # --- kick\n",
    "    if x < 200:\n",
    "        canvas[1].fill_rect(0, 0, 200, height=height)\n",
    "        if last_played != \"kick\":\n",
    "            last_played = \"kick\"\n",
    "            earthquake_drums.trigger_attack_release(\n",
    "                \"E3\", \"16n\", time=\"@16n\"\n",
    "            )\n",
    "    \n",
    "    # --- snare\n",
    "    elif x > 400:\n",
    "        canvas[1].fill_rect(400, 0, 200, height=height)\n",
    "        if last_played != \"snare\":\n",
    "            last_played = \"snare\"\n",
    "            earthquake_drums.trigger_attack_release(\n",
    "                \"B5\", \"16n\", time=\"@16n\"\n",
    "            )\n",
    "    \n",
    "    # --- hi-hats\n",
    "    elif x > 200 and x <= 400:\n",
    "        last_played = \"hh\"\n",
    "        earthquake_drums.trigger_attack_release(\n",
    "            1e4 + random.random() * 1e3,\n",
    "            0.1,\n",
    "            time=\"@16n\",\n",
    "            velocity=velocity,\n",
    "        )\n"
   ]
  },
  {
   "cell_type": "code",
   "execution_count": null,
   "id": "50fdbb67-3c7c-4af0-9b04-767cf83742c5",
   "metadata": {
    "tags": []
   },
   "outputs": [],
   "source": [
    "canvas[2].on_mouse_move(play_earthquake)"
   ]
  },
  {
   "cell_type": "code",
   "execution_count": null,
   "id": "ebe2ad54-b886-4a84-9500-b429ed092994",
   "metadata": {
    "tags": []
   },
   "outputs": [],
   "source": [
    "canvas"
   ]
  },
  {
   "cell_type": "code",
   "execution_count": null,
   "id": "4d4c4ca2-647f-4256-bd35-b400df70eb2c",
   "metadata": {},
   "outputs": [],
   "source": []
  }
 ],
 "metadata": {
  "kernelspec": {
   "display_name": "Python 3 (ipykernel)",
   "language": "python",
   "name": "python3"
  },
  "language_info": {
   "codemirror_mode": {
    "name": "ipython",
    "version": 3
   },
   "file_extension": ".py",
   "mimetype": "text/x-python",
   "name": "python",
   "nbconvert_exporter": "python",
   "pygments_lexer": "ipython3",
   "version": "3.11.3"
  }
 },
 "nbformat": 4,
 "nbformat_minor": 5
}

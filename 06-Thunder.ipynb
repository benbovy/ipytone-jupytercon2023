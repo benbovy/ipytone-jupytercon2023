{
 "cells": [
  {
   "cell_type": "markdown",
   "id": "2f439355-f1d0-4bda-9f3d-2de12f47dba6",
   "metadata": {},
   "source": [
    "# Synthesizing the sound of thunder\n",
    "\n",
    "Work in progress! Still misses some features not yet implemented in `ipytone`.\n",
    "\n",
    "- paper: https://arxiv.org/abs/2204.08026\n",
    "- reference implementation: https://github.com/bineferg/thunder-synthesis"
   ]
  },
  {
   "cell_type": "code",
   "execution_count": null,
   "id": "ac9082b2-87a1-4f28-b76b-17520366bb82",
   "metadata": {
    "tags": []
   },
   "outputs": [],
   "source": [
    "import random\n",
    "import ipytone\n",
    "import numpy as np"
   ]
  },
  {
   "cell_type": "code",
   "execution_count": null,
   "id": "0167615c-fbb6-4d11-9d52-059ab0720d75",
   "metadata": {
    "tags": []
   },
   "outputs": [],
   "source": [
    "def create_panner(x, y, z):\n",
    "    return ipytone.Panner3D(\n",
    "        position=(x, y, z),\n",
    "        orientation=(0, 0, -1),\n",
    "        rolloff_factor=10,\n",
    "        cone_inner_angle=60,\n",
    "        cone_outer_angle=90,\n",
    "        cone_outer_gain=0.6,\n",
    "    )"
   ]
  },
  {
   "cell_type": "code",
   "execution_count": null,
   "id": "feb0a014-3af5-4f16-b335-6bdc02e1edd4",
   "metadata": {
    "tags": []
   },
   "outputs": [],
   "source": [
    "reverb = ipytone.Reverb(wet=0.3, decay=10)\n",
    "delay1 = ipytone.PingPongDelay(wet=0.1, delay_time=0.2, feedback=0.4)\n",
    "delay2 = ipytone.PingPongDelay(wet=0.2, delay_time=2, feedback=0.1)\n",
    "lp_filter = ipytone.Filter(frequency=14000, q=0)\n",
    "reverb.chain(lp_filter, delay1, delay2, ipytone.get_destination())"
   ]
  },
  {
   "cell_type": "markdown",
   "id": "04491cc9-c893-48a9-961a-21d5a01e8b99",
   "metadata": {},
   "source": [
    "## Strikes"
   ]
  },
  {
   "cell_type": "code",
   "execution_count": null,
   "id": "f60aaa55-9e38-46e4-aeec-0547d1921cd6",
   "metadata": {
    "tags": []
   },
   "outputs": [],
   "source": [
    "class Strike:\n",
    "    def __init__(self):\n",
    "        self.noise = ipytone.Noise().start()\n",
    "        self.envelopes = [\n",
    "            ipytone.AmplitudeEnvelope(attack=0, decay=0, release=0) for _ in range(4)\n",
    "        ]\n",
    "        self.filters = [\n",
    "            ipytone.Filter(frequency=1000, type=\"bandpass\", q=7)\n",
    "            for _ in range(8)\n",
    "        ]\n",
    "        self.out = ipytone.Gain(gain=1)\n",
    "        self.delay = ipytone.FeedbackDelay(wet=0.1, delay_time=0.6, feedback=0.15)\n",
    "        self.panner = create_panner(\n",
    "            random.uniform(-1, 1),\n",
    "            random.uniform(-0.5, 0.5),\n",
    "            random.uniform(-0.5, 0.5),\n",
    "        )\n",
    "        \n",
    "        self._connect()\n",
    "    \n",
    "    def _connect(self):\n",
    "        for i in range(4):\n",
    "            a = i * 2\n",
    "            b = i * 2 + 1\n",
    "\n",
    "            self.noise.chain(self.envelopes[i])\n",
    "            self.envelopes[i].fan(self.filters[a], self.filters[b])\n",
    "            self.filters[a].connect(self.out)\n",
    "            self.filters[b].connect(self.out)\n",
    "\n",
    "        self.out.chain(self.delay, self.panner)\n",
    "        \n",
    "    @property\n",
    "    def output(self):\n",
    "        return self.panner\n",
    "        \n",
    "    def strike(self, delay):\n",
    "        for i in range(4):\n",
    "            r = random.random()\n",
    "            duration = 140 * (1.4 - r)**5 / 1000\n",
    "            freq = r * 1200 + 100\n",
    "\n",
    "            self.envelopes[i].trigger_attack_release(\n",
    "                duration, f\"+{delay}\"\n",
    "            )\n",
    "            self.filters[i * 2].frequency.set_value_at_time(\n",
    "                freq, f\"+{delay} - 0.001\"\n",
    "            )\n",
    "            self.filters[i * 2 + 1].frequency.set_value_at_time(\n",
    "                freq * 0.5, f\"+{delay} - 0.001\"\n",
    "            )\n",
    "\n",
    "    def dispose(self):\n",
    "        self.noise.dispose()\n",
    "        self.out.dispose()\n",
    "        self.delay.dispose()\n",
    "        self.panner.dispose()\n",
    "        for env in self.envelopes:\n",
    "            env.dispose()\n",
    "        for filtr in self.filters:\n",
    "            filtr.dispose()"
   ]
  },
  {
   "cell_type": "code",
   "execution_count": null,
   "id": "e354a971-41cf-4119-badd-feb9f7142537",
   "metadata": {
    "tags": []
   },
   "outputs": [],
   "source": [
    "strikes = []\n",
    "for i in range(4):\n",
    "    strikes.append(Strike())\n",
    "    strikes[i].output.connect(reverb)"
   ]
  },
  {
   "cell_type": "code",
   "execution_count": null,
   "id": "126824fd-3baa-4936-8047-aa206e5b1c27",
   "metadata": {
    "tags": []
   },
   "outputs": [],
   "source": [
    "for strike in strikes:\n",
    "    strike.strike(0.29 + random.uniform(0, 0.25))"
   ]
  },
  {
   "cell_type": "markdown",
   "id": "082a6fa2-21d5-4bf1-9e6c-fda377cf9ed4",
   "metadata": {},
   "source": [
    "## After image"
   ]
  },
  {
   "cell_type": "code",
   "execution_count": null,
   "id": "28129d78-1b94-4953-8d03-50e030ccbfee",
   "metadata": {
    "tags": []
   },
   "outputs": [],
   "source": [
    "class AfterImage:\n",
    "    def __init__(self):\n",
    "        self.noise1 = ipytone.Noise().start()\n",
    "        self.noise2 = ipytone.Noise().start()\n",
    "        self.gain = ipytone.Gain(gain=0)\n",
    "        self.lp_filter = ipytone.Filter(frequency=33, q=3)\n",
    "        self.bp_filter = ipytone.Filter(type=\"bandpass\", frequency=333, q=4)\n",
    "        self.panner = create_panner(\n",
    "            random.uniform(-1, 1),\n",
    "            random.uniform(-0.5, 0.5),\n",
    "            random.uniform(-0.5, 0.5),\n",
    "        )\n",
    "        \n",
    "        self._connect()\n",
    "    \n",
    "    def _connect(self):\n",
    "        self.mult = ipytone.Multiply(factor=80)\n",
    "        self.mult_gain = ipytone.Gain(gain=0)\n",
    "        self.clip = ipytone.WaveShaper(curve=[-1, 0, 1])\n",
    "        self.noise1.chain(\n",
    "            self.lp_filter,\n",
    "            self.mult,\n",
    "            self.mult_gain,\n",
    "            self.clip,\n",
    "            self.bp_filter,\n",
    "            self.gain,\n",
    "            self.panner,\n",
    "        )\n",
    "        self.noise2.connect(self.mult_gain.gain)\n",
    "        \n",
    "    @property\n",
    "    def output(self):\n",
    "        return self.panner\n",
    "    \n",
    "    def capture(self, delay, value=0.8):\n",
    "        self.gain.gain.set_value_at_time(0, None)\n",
    "        curve = np.array([0, 2, 0.4, 0.5, 0.25, 1.25, 0.6, 1.15, 0.35, 0.15, 0.001])\n",
    "        self.gain.gain.set_value_curve_at_time(\n",
    "            curve * value,\n",
    "            f\"+{delay}\",\n",
    "            14,\n",
    "        \n",
    "        )\n",
    "        self.bp_filter.frequency.cancel_and_hold_at_time(None)\n",
    "        self.bp_filter.frequency.set_value_at_time(\n",
    "            333 + random.uniform(-100, 100), f\"+{delay + 0.2}\"\n",
    "        )\n",
    "        self.bp_filter.frequency.linear_ramp_to_value_at_time(\n",
    "            233 + random.uniform(-50, 50), f\"+{delay + 0.2 + 14}\"\n",
    "        )\n",
    "        self.lp_filter.frequency.cancel_and_hold_at_time(None)\n",
    "        self.lp_filter.frequency.set_value_at_time(33, f\"+{delay + 0.2}\")\n",
    "        self.lp_filter.frequency.linear_ramp_to_value_at_time(\n",
    "            0, f\"+{delay + 0.2 + 14}\"\n",
    "        )\n",
    "    \n",
    "    def dispose(self):\n",
    "        self.noise1.dispose()\n",
    "        self.noise2.dispose()\n",
    "        self.gain.dispose()\n",
    "        self.lp_filter.dispose()\n",
    "        self.bp_filter.dispose()\n",
    "        self.panner.dispose()\n",
    "        self.mult.dispose()\n",
    "        self.mult_gain.dispose()\n",
    "        self.clip.dispose()\n",
    "    "
   ]
  },
  {
   "cell_type": "code",
   "execution_count": null,
   "id": "ad0c35c5-0c79-4b42-8fe7-62f93fc7cdc7",
   "metadata": {
    "tags": []
   },
   "outputs": [],
   "source": [
    "after_image = AfterImage()\n",
    "after_image.output.connect(ipytone.get_destination())"
   ]
  },
  {
   "cell_type": "code",
   "execution_count": null,
   "id": "ec5fe869-8ffe-4bec-a025-f4f58db0e4f8",
   "metadata": {
    "tags": []
   },
   "outputs": [],
   "source": [
    "distance_delay = 0.29\n",
    "\n",
    "for strike in strikes:\n",
    "    strike.strike(distance_delay + random.uniform(0, 0.25))\n",
    "\n",
    "after_image.capture(distance_delay, value=0.4)"
   ]
  },
  {
   "cell_type": "markdown",
   "id": "0896a043-3fbd-4f57-9dda-2106b3c35109",
   "metadata": {},
   "source": [
    "## Rumbler"
   ]
  },
  {
   "cell_type": "code",
   "execution_count": null,
   "id": "a87ba30c-1f15-493f-b4a1-dd83430e8f4f",
   "metadata": {
    "tags": []
   },
   "outputs": [],
   "source": [
    "class Rumbler:\n",
    "    def __init__(self):\n",
    "        self.noise1 = ipytone.Noise().start()\n",
    "        self.noise2 = ipytone.Noise().start()\n",
    "        self.gain1 = ipytone.Gain(gain=0)\n",
    "        #self.gain2 = ipytone.Gain(gain=3)\n",
    "        self.lp_filters = [\n",
    "            ipytone.Filter(q=3) for _ in range(4)\n",
    "        ]\n",
    "        self.hp_filter = ipytone.Filter(type=\"highpass\", frequency=300, q=8)\n",
    "        \n",
    "        self.panner = create_panner(\n",
    "            random.uniform(-0.5, 0.5),\n",
    "            random.uniform(-0.5, 0.5),\n",
    "            random.uniform(-0.5, 0.5),\n",
    "        )\n",
    "        \n",
    "        self._connect()\n",
    "        \n",
    "    def _connect(self):\n",
    "        self.clip = ipytone.WaveShaper(curve=[0, 0, 1])\n",
    "        self.clip2 = ipytone.WaveShaper(curve=[0.2, 0.2, 1])\n",
    "        self.mult_gain = ipytone.Gain(gain=0)\n",
    "        self.noise1.chain(\n",
    "            self.lp_filters[0],\n",
    "            self.clip,\n",
    "            self.mult_gain,\n",
    "            self.gain1,\n",
    "            self.hp_filter,\n",
    "            self.panner,\n",
    "        )\n",
    "        self.noise2.chain(\n",
    "            self.lp_filters[1],\n",
    "            self.clip2,\n",
    "            self.mult_gain.gain\n",
    "        )\n",
    "    \n",
    "    @property\n",
    "    def output(self):\n",
    "        return self.panner\n",
    "    \n",
    "    def rumble(self, delay, value=0.2):\n",
    "        self.gain1.gain.set_value_at_time(0, None)\n",
    "        curve = np.array([2.5, 0.15, 1.7, 0.12, 0.8, 0.25, 0.05, 0.0001])\n",
    "        self.gain1.gain.set_value_curve_at_time(\n",
    "            curve * value,\n",
    "            f\"+{delay}\",\n",
    "            9,\n",
    "        \n",
    "        )\n",
    "    \n",
    "        for filtr in self.lp_filters:\n",
    "            filtr.frequency.cancel_and_hold_at_time(None)\n",
    "            filtr.frequency.set_value_at_time(1000, f\"+{delay}\")\n",
    "            filtr.frequency.linear_ramp_to_value_at_time(\n",
    "            0, f\"+{delay + 12}\"\n",
    "        )\n",
    "    \n",
    "    def dispose(self):\n",
    "        self.noise1.dispose()\n",
    "        self.noise2.dispose()\n",
    "        self.gain1.dispose()\n",
    "        #self.gain2.dispose()\n",
    "        self.panner.dispose()\n",
    "        for filtr in self.lp_filters:\n",
    "            filtr.dispose()\n",
    "        self.hp_filter.dispose()\n",
    "        self.clip.dispose()\n",
    "        self.clip2.dispose()\n",
    "        self.mult_gain.dispose()\n",
    "        "
   ]
  },
  {
   "cell_type": "code",
   "execution_count": null,
   "id": "18763f92-3b1a-40a0-92ed-cd417ef275c6",
   "metadata": {
    "tags": []
   },
   "outputs": [],
   "source": [
    "rumbler = Rumbler()\n",
    "rumbler.output.connect(ipytone.get_destination())"
   ]
  },
  {
   "cell_type": "markdown",
   "id": "9dca3090-736d-4243-8e54-ecef5a689055",
   "metadata": {},
   "source": [
    "## Deepen"
   ]
  },
  {
   "cell_type": "code",
   "execution_count": null,
   "id": "3b4e68c0-cb2d-4e6a-b8f4-2d3753e481cb",
   "metadata": {
    "tags": []
   },
   "outputs": [],
   "source": [
    "class Deepen:\n",
    "    def __init__(self):\n",
    "        self.noise = ipytone.Noise().start()\n",
    "        self.gain = ipytone.Gain(gain=0)\n",
    "        self.hp_filter = ipytone.Filter(type=\"highpass\", frequency=30, q=3)\n",
    "        self.lp_filter1 = ipytone.Filter(frequency=60, q=3)\n",
    "        self.lp_filter2 = ipytone.Filter(frequency=80, q=3)\n",
    "        self.panner = create_panner(\n",
    "            random.uniform(-0.4, 0.4),\n",
    "            random.uniform(-0.2, 0.2),\n",
    "            random.uniform(-0.5, 0.5),\n",
    "        )\n",
    "        \n",
    "        self._connect()\n",
    "    \n",
    "    def _connect(self):\n",
    "        self.mult = ipytone.Multiply(factor=3.5)\n",
    "        self.clip = ipytone.WaveShaper(curve=[-1, 0, 1])\n",
    "        self.noise.chain(\n",
    "            self.lp_filter1,\n",
    "            self.hp_filter,\n",
    "            self.mult,\n",
    "            self.clip,\n",
    "            self.lp_filter2,\n",
    "            self.gain,\n",
    "            self.panner\n",
    "        )\n",
    "        \n",
    "    @property\n",
    "    def output(self):\n",
    "        return self.panner\n",
    "    \n",
    "    def apply(self, delay, value=0.2):\n",
    "        self.gain.gain.cancel_and_hold_at_time(None)\n",
    "        self.gain.gain.set_value_at_time(0, f\"+{delay}\")\n",
    "        curve = np.array([1, 6, 1.75, 5, 1.5, 4.15, 0.001])\n",
    "        self.gain.gain.set_value_curve_at_time(curve * value, f\"+{delay}\", 16)\n",
    "        \n",
    "    def dispose(self):\n",
    "        self.noise.dispose()\n",
    "        self.gain.dispose()\n",
    "        self.lp_filter1.dispose()\n",
    "        self.lp_filter2.dispose()\n",
    "        self.hp_filter.dispose()\n",
    "        self.panner.dispose()\n",
    "        self.mult.dispose()\n",
    "        self.clip.dispose()\n",
    "      "
   ]
  },
  {
   "cell_type": "code",
   "execution_count": null,
   "id": "ad7d70d6-31c7-4e0d-8f35-161c5c2b52b8",
   "metadata": {
    "tags": []
   },
   "outputs": [],
   "source": [
    "deepen = Deepen()\n",
    "deepen.output.connect(ipytone.get_destination())"
   ]
  },
  {
   "cell_type": "code",
   "execution_count": null,
   "id": "29df6872-5c99-45dc-975b-7a15ce6eaa03",
   "metadata": {
    "tags": []
   },
   "outputs": [],
   "source": [
    "distance_delay = 0.29\n",
    "\n",
    "for strike in strikes:\n",
    "    strike.strike(distance_delay + random.uniform(0, 0.25))\n",
    "\n",
    "after_image.capture(distance_delay, value=0.15)\n",
    "deepen.apply(distance_delay + 0.5, value=0.1)\n",
    "rumbler.rumble(distance_delay, value=1.5)\n",
    "\n",
    "lp_filter.frequency.cancel_and_hold_at_time(None)\n",
    "lp_filter.frequency.set_value_at_time(14000, f\"+{distance_delay + 0.2}\")\n",
    "lp_filter.frequency.linear_ramp_to_value_at_time(\n",
    "    0, f\"+{distance_delay + 0.2 + 16}\"\n",
    ")"
   ]
  },
  {
   "cell_type": "code",
   "execution_count": null,
   "id": "9e00d029-d46a-4c8e-965f-13d8553a5a32",
   "metadata": {
    "tags": []
   },
   "outputs": [],
   "source": [
    "ipytone.get_destination().volume.value = 4"
   ]
  },
  {
   "cell_type": "code",
   "execution_count": null,
   "id": "4377a883-3b45-4e79-88e1-cef67674c1f1",
   "metadata": {},
   "outputs": [],
   "source": []
  },
  {
   "cell_type": "code",
   "execution_count": null,
   "id": "faa5c1dd-77b9-4df8-be92-cbd2716dd304",
   "metadata": {
    "tags": []
   },
   "outputs": [],
   "source": [
    "rumbler.dispose()\n",
    "deepen.dispose()"
   ]
  },
  {
   "cell_type": "code",
   "execution_count": null,
   "id": "85aea788-9792-4eef-9feb-bbf332705004",
   "metadata": {
    "tags": []
   },
   "outputs": [],
   "source": [
    "after_image.dispose()"
   ]
  },
  {
   "cell_type": "code",
   "execution_count": null,
   "id": "ec23e743-2920-4dea-bdc3-cfb56c67cf6f",
   "metadata": {
    "tags": []
   },
   "outputs": [],
   "source": [
    "for strike in strikes:\n",
    "    strike.dispose()\n"
   ]
  },
  {
   "cell_type": "code",
   "execution_count": null,
   "id": "9ff6c54f-9449-4db5-992e-92b87e3a2ec9",
   "metadata": {},
   "outputs": [],
   "source": [
    "reverb.dispose()\n",
    "delay1.dispose()\n",
    "delay2.dispose()\n",
    "lp_filter.dispose()"
   ]
  },
  {
   "cell_type": "code",
   "execution_count": null,
   "id": "1d9b95d9-ad32-43c0-9c22-82ff45c08b21",
   "metadata": {},
   "outputs": [],
   "source": []
  }
 ],
 "metadata": {
  "kernelspec": {
   "display_name": "Python 3 (ipykernel)",
   "language": "python",
   "name": "python3"
  },
  "language_info": {
   "codemirror_mode": {
    "name": "ipython",
    "version": 3
   },
   "file_extension": ".py",
   "mimetype": "text/x-python",
   "name": "python",
   "nbconvert_exporter": "python",
   "pygments_lexer": "ipython3",
   "version": "3.11.3"
  }
 },
 "nbformat": 4,
 "nbformat_minor": 5
}
